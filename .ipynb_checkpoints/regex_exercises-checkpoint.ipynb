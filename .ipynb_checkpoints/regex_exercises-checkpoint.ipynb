{
 "cells": [
  {
   "cell_type": "code",
   "execution_count": 3,
   "id": "1594b2c3",
   "metadata": {},
   "outputs": [],
   "source": [
    "import re\n",
    "import pandas as pd"
   ]
  },
  {
   "cell_type": "markdown",
   "id": "64980c6a",
   "metadata": {},
   "source": [
    "Write a function named is_vowel. It should accept a string as input and use a regular expression to determine if the passed string is a vowel. While not explicity mentioned in the lesson, you can treat the result of re.search as a boolean value that indicates whether or not the regular expression matches the given string."
   ]
  },
  {
   "cell_type": "code",
   "execution_count": 27,
   "id": "67d956ef",
   "metadata": {},
   "outputs": [],
   "source": [
    "def is_vowel(x):\n",
    "    if bool(re.search(r\"a|e|i|o|u\", x, re.IGNORECASE)) == True:\n",
    "        print('vowel found!')\n",
    "    else:\n",
    "        print('no vowel found!')\n",
    "    return re.search(r\"a|e|i|o|u|A|I|O|U|E|\", x, re.IGNORECASE)\n",
    "        "
   ]
  },
  {
   "cell_type": "code",
   "execution_count": 28,
   "id": "5cf93ba1",
   "metadata": {},
   "outputs": [
    {
     "name": "stdout",
     "output_type": "stream",
     "text": [
      "islan\n",
      "vowel found!\n"
     ]
    },
    {
     "data": {
      "text/plain": [
       "<re.Match object; span=(0, 1), match='i'>"
      ]
     },
     "execution_count": 28,
     "metadata": {},
     "output_type": "execute_result"
    }
   ],
   "source": [
    "x = input()\n",
    "is_vowel(x)"
   ]
  },
  {
   "cell_type": "markdown",
   "id": "e307e91b",
   "metadata": {},
   "source": [
    "Write a function named is_valid_username that accepts a string as input. A valid username starts with a lowercase letter, and only consists of lowercase letters, numbers, or the _ character. It should also be no longer than 32 characters. The function should return either True or False depending on whether the passed string is a valid username."
   ]
  },
  {
   "cell_type": "code",
   "execution_count": 41,
   "id": "2f7b0c30",
   "metadata": {},
   "outputs": [],
   "source": [
    "def is_valid_username(x):\n",
    "    if bool(re.search(r\"^(\\w){1,32}$\", x)) == True:\n",
    "        print('valid username')\n",
    "    else:\n",
    "        print('invalid username')\n",
    "    return re.search(r\"^(\\w){1,32}$\", x)"
   ]
  },
  {
   "cell_type": "code",
   "execution_count": 42,
   "id": "c7bd363d",
   "metadata": {},
   "outputs": [
    {
     "name": "stdout",
     "output_type": "stream",
     "text": [
      "asmodan_killes_83\n",
      "valid username\n"
     ]
    },
    {
     "data": {
      "text/plain": [
       "<re.Match object; span=(0, 17), match='asmodan_killes_83'>"
      ]
     },
     "execution_count": 42,
     "metadata": {},
     "output_type": "execute_result"
    }
   ],
   "source": [
    "x = input()\n",
    "is_valid_username(x)"
   ]
  },
  {
   "cell_type": "markdown",
   "id": "29dc9e69",
   "metadata": {},
   "source": [
    "Write a regular expression to capture phone numbers. It should match all of the following:\n",
    "\n",
    "(210) 867 5309\n",
    "\n",
    "+1 210.867.5309\n",
    "\n",
    "867-5309\n",
    "\n",
    "210-867-5309\n"
   ]
  },
  {
   "cell_type": "code",
   "execution_count": 44,
   "id": "2d40173f",
   "metadata": {},
   "outputs": [],
   "source": [
    "def cap_phone_num(x):\n",
    "    if bool(re.search(r\"^(\\+\\d{1,2}\\s)?(\\(?\\d{3}\\)?)?[\\s.-]\\d{3}[\\s.-]\\d{4}$\", x)) == True:\n",
    "        print('valid number')\n",
    "    else:\n",
    "        print('invalid number')\n",
    "    return re.search(r\"^(\\+\\d{1,2}\\s)?(\\(?\\d{3}\\)?)?[\\s.-]\\d{3}[\\s.-]\\d{4}$\", x)\n",
    "\n"
   ]
  },
  {
   "cell_type": "code",
   "execution_count": 45,
   "id": "21b7d99d",
   "metadata": {},
   "outputs": [
    {
     "name": "stdout",
     "output_type": "stream",
     "text": [
      "(210) 867-5309\n",
      "valid number\n"
     ]
    },
    {
     "data": {
      "text/plain": [
       "<re.Match object; span=(0, 14), match='(210) 867-5309'>"
      ]
     },
     "execution_count": 45,
     "metadata": {},
     "output_type": "execute_result"
    }
   ],
   "source": [
    "x = input()\n",
    "cap_phone_num(x)"
   ]
  },
  {
   "cell_type": "markdown",
   "id": "7d2e150b",
   "metadata": {},
   "source": [
    "Use regular expressions to convert the dates below to the standardized year-month-day format.  \n",
    "02/04/19  \n",
    "02/05/19  \n",
    "02/06/19  \n",
    "02/07/19  \n",
    "02/08/19  \n",
    "02/09/19  \n",
    "02/10/19\n"
   ]
  },
  {
   "cell_type": "code",
   "execution_count": 55,
   "id": "ec736cd4",
   "metadata": {},
   "outputs": [],
   "source": [
    "dates = ['02/04/19','02/05/19', '02/06/19', '02/07/19', '02/08/19', '02/09/19', '02/10/19']"
   ]
  },
  {
   "cell_type": "code",
   "execution_count": 56,
   "id": "356928d9",
   "metadata": {},
   "outputs": [],
   "source": [
    "pattern = re.compile(r\"(?P<month>\\d{2})\\/(?P<day>\\d{2})\\/(?P<year>\\d{2})\")"
   ]
  },
  {
   "cell_type": "code",
   "execution_count": 65,
   "id": "63e6cc4c",
   "metadata": {},
   "outputs": [
    {
     "name": "stdout",
     "output_type": "stream",
     "text": [
      "03/06/19\n",
      "2019/03/06\n"
     ]
    }
   ],
   "source": [
    "x = input()\n",
    "date_dict = re.search(pattern, x).groupdict()\n",
    "print(f'20{date_dict[\"year\"]}/{date_dict[\"month\"]}/{date_dict[\"day\"]}')"
   ]
  },
  {
   "cell_type": "markdown",
   "id": "378c6550",
   "metadata": {},
   "source": [
    "Write a regex to extract the various parts of these logfile lines:\n",
    "\n",
    "GET /api/v1/sales?page=86 [16/Apr/2019:193452+0000] HTTP/1.1 {200} 510348 \"python-requests/2.21.0\" 97.105.19.58  \n",
    "POST /users_accounts/file-upload [16/Apr/2019:193452+0000] HTTP/1.1 {201} 42 \"User-Agent: Mozilla/5.0 (X11; Fedora; Fedora; Linux x86_64) AppleWebKit/537.36 (KHTML, like Gecko) Chrome/73.0.3683.86 Safari/537.36\" 97.105.19.58  \n",
    "GET /api/v1/items?page=3 [16/Apr/2019:193453+0000] HTTP/1.1 {429} 3561 \"python-requests/2.21.0\" 97.105.19.58  \n"
   ]
  },
  {
   "cell_type": "code",
   "execution_count": null,
   "id": "38819fea",
   "metadata": {},
   "outputs": [],
   "source": []
  }
 ],
 "metadata": {
  "kernelspec": {
   "display_name": "Python 3 (ipykernel)",
   "language": "python",
   "name": "python3"
  },
  "language_info": {
   "codemirror_mode": {
    "name": "ipython",
    "version": 3
   },
   "file_extension": ".py",
   "mimetype": "text/x-python",
   "name": "python",
   "nbconvert_exporter": "python",
   "pygments_lexer": "ipython3",
   "version": "3.9.13"
  }
 },
 "nbformat": 4,
 "nbformat_minor": 5
}
