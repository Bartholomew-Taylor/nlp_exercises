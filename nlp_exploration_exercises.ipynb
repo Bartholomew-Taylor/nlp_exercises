{
 "cells": [
  {
   "cell_type": "code",
   "execution_count": 10,
   "id": "6c3fa61d",
   "metadata": {},
   "outputs": [],
   "source": [
    "\n",
    "import re\n",
    "import unicodedata\n",
    "import pandas as pd\n",
    "import nltk\n",
    "import prepare\n",
    "\n",
    "import matplotlib.pyplot as plt\n",
    "import seaborn as sns\n",
    "\n",
    "from wordcloud import WordCloud\n",
    "\n",
    "from env import get_connection"
   ]
  },
  {
   "cell_type": "code",
   "execution_count": 6,
   "id": "874aaade",
   "metadata": {},
   "outputs": [],
   "source": [
    "url = get_connection('spam_db')"
   ]
  },
  {
   "cell_type": "markdown",
   "id": "385d7df1",
   "metadata": {},
   "source": [
    "Load the spam data set."
   ]
  },
  {
   "cell_type": "code",
   "execution_count": 7,
   "id": "c1b6cf92",
   "metadata": {},
   "outputs": [],
   "source": [
    "#Define SQL query\n",
    "query = '''\n",
    "        SELECT *\n",
    "        FROM spam\n",
    "        '''"
   ]
  },
  {
   "cell_type": "code",
   "execution_count": 8,
   "id": "ec665700",
   "metadata": {},
   "outputs": [
    {
     "data": {
      "text/html": [
       "<div>\n",
       "<style scoped>\n",
       "    .dataframe tbody tr th:only-of-type {\n",
       "        vertical-align: middle;\n",
       "    }\n",
       "\n",
       "    .dataframe tbody tr th {\n",
       "        vertical-align: top;\n",
       "    }\n",
       "\n",
       "    .dataframe thead th {\n",
       "        text-align: right;\n",
       "    }\n",
       "</style>\n",
       "<table border=\"1\" class=\"dataframe\">\n",
       "  <thead>\n",
       "    <tr style=\"text-align: right;\">\n",
       "      <th></th>\n",
       "      <th>label</th>\n",
       "      <th>text</th>\n",
       "    </tr>\n",
       "    <tr>\n",
       "      <th>id</th>\n",
       "      <th></th>\n",
       "      <th></th>\n",
       "    </tr>\n",
       "  </thead>\n",
       "  <tbody>\n",
       "    <tr>\n",
       "      <th>0</th>\n",
       "      <td>ham</td>\n",
       "      <td>Go until jurong point, crazy.. Available only ...</td>\n",
       "    </tr>\n",
       "    <tr>\n",
       "      <th>1</th>\n",
       "      <td>ham</td>\n",
       "      <td>Ok lar... Joking wif u oni...</td>\n",
       "    </tr>\n",
       "    <tr>\n",
       "      <th>2</th>\n",
       "      <td>spam</td>\n",
       "      <td>Free entry in 2 a wkly comp to win FA Cup fina...</td>\n",
       "    </tr>\n",
       "    <tr>\n",
       "      <th>3</th>\n",
       "      <td>ham</td>\n",
       "      <td>U dun say so early hor... U c already then say...</td>\n",
       "    </tr>\n",
       "    <tr>\n",
       "      <th>4</th>\n",
       "      <td>ham</td>\n",
       "      <td>Nah I don't think he goes to usf, he lives aro...</td>\n",
       "    </tr>\n",
       "  </tbody>\n",
       "</table>\n",
       "</div>"
      ],
      "text/plain": [
       "   label                                               text\n",
       "id                                                         \n",
       "0    ham  Go until jurong point, crazy.. Available only ...\n",
       "1    ham                      Ok lar... Joking wif u oni...\n",
       "2   spam  Free entry in 2 a wkly comp to win FA Cup fina...\n",
       "3    ham  U dun say so early hor... U c already then say...\n",
       "4    ham  Nah I don't think he goes to usf, he lives aro..."
      ]
     },
     "execution_count": 8,
     "metadata": {},
     "output_type": "execute_result"
    }
   ],
   "source": [
    "df = pd.read_sql(query, url, index_col='id')\n",
    "df.head()"
   ]
  },
  {
   "cell_type": "markdown",
   "id": "59c55a9b",
   "metadata": {},
   "source": [
    "Create and explore bigrams for the spam data. Visualize them with a word cloud. How do they compare with the ham bigrams?"
   ]
  },
  {
   "cell_type": "code",
   "execution_count": null,
   "id": "8c05d88b",
   "metadata": {},
   "outputs": [],
   "source": []
  },
  {
   "cell_type": "markdown",
   "id": "925abc13",
   "metadata": {},
   "source": [
    "Is there any overlap in the bigrams for the spam data and the ham data?"
   ]
  },
  {
   "cell_type": "code",
   "execution_count": null,
   "id": "60788cbe",
   "metadata": {},
   "outputs": [],
   "source": []
  },
  {
   "cell_type": "markdown",
   "id": "f17afc3d",
   "metadata": {},
   "source": [
    "Create and explore with trigrams (i.e. a n-gram with an n of 3) for both the spam and ham data."
   ]
  },
  {
   "cell_type": "code",
   "execution_count": null,
   "id": "d86ee9ac",
   "metadata": {},
   "outputs": [],
   "source": []
  },
  {
   "cell_type": "markdown",
   "id": "6b219f1d",
   "metadata": {},
   "source": [
    "Explore the blog articles using the techniques discussed in the exploration lesson."
   ]
  },
  {
   "cell_type": "code",
   "execution_count": null,
   "id": "22cc51f8",
   "metadata": {},
   "outputs": [],
   "source": []
  },
  {
   "cell_type": "markdown",
   "id": "2df913e7",
   "metadata": {},
   "source": [
    "Explore the news articles using the techniques discussed in the exploration lesson. Use the category variable when exploring."
   ]
  },
  {
   "cell_type": "code",
   "execution_count": null,
   "id": "12f28eb2",
   "metadata": {},
   "outputs": [],
   "source": []
  }
 ],
 "metadata": {
  "kernelspec": {
   "display_name": "Python 3 (ipykernel)",
   "language": "python",
   "name": "python3"
  },
  "language_info": {
   "codemirror_mode": {
    "name": "ipython",
    "version": 3
   },
   "file_extension": ".py",
   "mimetype": "text/x-python",
   "name": "python",
   "nbconvert_exporter": "python",
   "pygments_lexer": "ipython3",
   "version": "3.9.13"
  }
 },
 "nbformat": 4,
 "nbformat_minor": 5
}
